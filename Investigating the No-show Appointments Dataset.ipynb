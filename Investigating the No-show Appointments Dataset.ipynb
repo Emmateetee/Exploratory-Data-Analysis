{
 "cells": [
  {
   "cell_type": "markdown",
   "metadata": {},
   "source": [
    "# Project: Investigating the No-show Appointments Dataset\n",
    "\n",
    "## Table of Contents\n",
    "<ul>\n",
    "<li><a href=\"#intro\">Introduction</a></li>\n",
    "<li><a href=\"#wrangling\">Data Wrangling</a></li>\n",
    "<li><a href=\"#eda\">Exploratory Data Analysis</a></li>\n",
    "<li><a href=\"#conclusions\">Conclusions</a></li>\n",
    "</ul>"
   ]
  },
  {
   "cell_type": "markdown",
   "metadata": {},
   "source": [
    "<a id='intro'></a>\n",
    "## Introduction\n",
    "\n",
    "The No-show Appointments dataset contains 110,527 medical appointments with its 14 associated variables/features. Here is a brief description of the features in the dataset:\n",
    "\n",
    "<ul>\n",
    "<li>PatientId - Identification of a patient.</li>\n",
    "<li>AppointmentID - Identification of each appointment.</li>  \n",
    "<li>Gender - Male or Female . Female is the greater proportion, woman takes way more care of they health in comparison to man.</li>\n",
    "<li>ScheduledDay - The day of the actuall appointment, when they have to visit the doctor.</li>\n",
    "<li>AppointmentDay - The day someone called or registered the appointment, this is before appointment of course.</li>\n",
    "<li>Age - How old is the patient.</li>\n",
    "<li>Neighbourhood - The location of the hospital.</li>\n",
    "<li>Scholarship - True or False. Whether or not the patient is enrolled in Brasilian Welfare Program (Bolsa Familia).</li>\n",
    "<li>Hipertension - True or False.</li>\n",
    "<li>Diabetes - True or False.</li>\n",
    "<li>Alcoholism - True or False.</li>\n",
    "<li>Handcap - True or False.</li>\n",
    "<li>SMS_received - 1 or more messages sent to the patient.</li>\n",
    "<li>No-show - True or False. This is treated as the dependent variable.</li>\n",
    "</ul>\n",
    "\n",
    "#### Research Questions\n",
    "<ul>\n",
    "<li>What factors are most important in predicting if a patient will show up for his/her scheduled appointment?</li>\n",
    "<li>How many patients were notified by SMS and showed up/missed their scheduled appointments?</li>  \n",
    "<li>How many patients with Scholarship showed up/missed their scheduled appointments?</li>\n",
    "<li>How does the Gender column affect No-show column?</li>\n",
    "<li>Determine the Neighborhood with the least/most No-show?</li>\n",
    "</ul>"
   ]
  },
  {
   "cell_type": "code",
   "execution_count": 1,
   "metadata": {},
   "outputs": [],
   "source": [
    "# IMPORTING THE REQUIRED PACKAGES AND SETTING PREFERRED STYLES\n",
    "\n",
    "import numpy as np\n",
    "import pandas as pd\n",
    "from pandas.plotting import scatter_matrix\n",
    "import seaborn as sns\n",
    "import matplotlib.pyplot as plt\n",
    "import warnings\n",
    "warnings.filterwarnings(\"ignore\")\n",
    "%matplotlib inline\n",
    "pd.set_option(\"display.max_rows\", None, \"display.max_columns\", 100)\n",
    "sns.set_style('darkgrid')"
   ]
  },
  {
   "cell_type": "markdown",
   "metadata": {},
   "source": [
    "<a id='wrangling'></a>\n",
    "## Data Wrangling\n",
    "\n",
    "### General Properties"
   ]
  },
  {
   "cell_type": "code",
   "execution_count": 2,
   "metadata": {},
   "outputs": [
    {
     "data": {
      "text/html": [
       "<div>\n",
       "<style scoped>\n",
       "    .dataframe tbody tr th:only-of-type {\n",
       "        vertical-align: middle;\n",
       "    }\n",
       "\n",
       "    .dataframe tbody tr th {\n",
       "        vertical-align: top;\n",
       "    }\n",
       "\n",
       "    .dataframe thead th {\n",
       "        text-align: right;\n",
       "    }\n",
       "</style>\n",
       "<table border=\"1\" class=\"dataframe\">\n",
       "  <thead>\n",
       "    <tr style=\"text-align: right;\">\n",
       "      <th></th>\n",
       "      <th>PatientId</th>\n",
       "      <th>AppointmentID</th>\n",
       "      <th>Gender</th>\n",
       "      <th>ScheduledDay</th>\n",
       "      <th>AppointmentDay</th>\n",
       "      <th>Age</th>\n",
       "      <th>Neighbourhood</th>\n",
       "      <th>Scholarship</th>\n",
       "      <th>Hipertension</th>\n",
       "      <th>Diabetes</th>\n",
       "      <th>Alcoholism</th>\n",
       "      <th>Handcap</th>\n",
       "      <th>SMS_received</th>\n",
       "      <th>No-show</th>\n",
       "    </tr>\n",
       "  </thead>\n",
       "  <tbody>\n",
       "    <tr>\n",
       "      <th>0</th>\n",
       "      <td>2.987250e+13</td>\n",
       "      <td>5642903</td>\n",
       "      <td>F</td>\n",
       "      <td>2016-04-29 18:38:08+00:00</td>\n",
       "      <td>2016-04-29 00:00:00+00:00</td>\n",
       "      <td>62</td>\n",
       "      <td>JARDIM DA PENHA</td>\n",
       "      <td>0</td>\n",
       "      <td>1</td>\n",
       "      <td>0</td>\n",
       "      <td>0</td>\n",
       "      <td>0</td>\n",
       "      <td>0</td>\n",
       "      <td>No</td>\n",
       "    </tr>\n",
       "    <tr>\n",
       "      <th>1</th>\n",
       "      <td>5.589978e+14</td>\n",
       "      <td>5642503</td>\n",
       "      <td>M</td>\n",
       "      <td>2016-04-29 16:08:27+00:00</td>\n",
       "      <td>2016-04-29 00:00:00+00:00</td>\n",
       "      <td>56</td>\n",
       "      <td>JARDIM DA PENHA</td>\n",
       "      <td>0</td>\n",
       "      <td>0</td>\n",
       "      <td>0</td>\n",
       "      <td>0</td>\n",
       "      <td>0</td>\n",
       "      <td>0</td>\n",
       "      <td>No</td>\n",
       "    </tr>\n",
       "    <tr>\n",
       "      <th>2</th>\n",
       "      <td>4.262962e+12</td>\n",
       "      <td>5642549</td>\n",
       "      <td>F</td>\n",
       "      <td>2016-04-29 16:19:04+00:00</td>\n",
       "      <td>2016-04-29 00:00:00+00:00</td>\n",
       "      <td>62</td>\n",
       "      <td>MATA DA PRAIA</td>\n",
       "      <td>0</td>\n",
       "      <td>0</td>\n",
       "      <td>0</td>\n",
       "      <td>0</td>\n",
       "      <td>0</td>\n",
       "      <td>0</td>\n",
       "      <td>No</td>\n",
       "    </tr>\n",
       "    <tr>\n",
       "      <th>3</th>\n",
       "      <td>8.679512e+11</td>\n",
       "      <td>5642828</td>\n",
       "      <td>F</td>\n",
       "      <td>2016-04-29 17:29:31+00:00</td>\n",
       "      <td>2016-04-29 00:00:00+00:00</td>\n",
       "      <td>8</td>\n",
       "      <td>PONTAL DE CAMBURI</td>\n",
       "      <td>0</td>\n",
       "      <td>0</td>\n",
       "      <td>0</td>\n",
       "      <td>0</td>\n",
       "      <td>0</td>\n",
       "      <td>0</td>\n",
       "      <td>No</td>\n",
       "    </tr>\n",
       "    <tr>\n",
       "      <th>4</th>\n",
       "      <td>8.841186e+12</td>\n",
       "      <td>5642494</td>\n",
       "      <td>F</td>\n",
       "      <td>2016-04-29 16:07:23+00:00</td>\n",
       "      <td>2016-04-29 00:00:00+00:00</td>\n",
       "      <td>56</td>\n",
       "      <td>JARDIM DA PENHA</td>\n",
       "      <td>0</td>\n",
       "      <td>1</td>\n",
       "      <td>1</td>\n",
       "      <td>0</td>\n",
       "      <td>0</td>\n",
       "      <td>0</td>\n",
       "      <td>No</td>\n",
       "    </tr>\n",
       "  </tbody>\n",
       "</table>\n",
       "</div>"
      ],
      "text/plain": [
       "      PatientId  AppointmentID Gender              ScheduledDay  \\\n",
       "0  2.987250e+13        5642903      F 2016-04-29 18:38:08+00:00   \n",
       "1  5.589978e+14        5642503      M 2016-04-29 16:08:27+00:00   \n",
       "2  4.262962e+12        5642549      F 2016-04-29 16:19:04+00:00   \n",
       "3  8.679512e+11        5642828      F 2016-04-29 17:29:31+00:00   \n",
       "4  8.841186e+12        5642494      F 2016-04-29 16:07:23+00:00   \n",
       "\n",
       "             AppointmentDay  Age      Neighbourhood  Scholarship  \\\n",
       "0 2016-04-29 00:00:00+00:00   62    JARDIM DA PENHA            0   \n",
       "1 2016-04-29 00:00:00+00:00   56    JARDIM DA PENHA            0   \n",
       "2 2016-04-29 00:00:00+00:00   62      MATA DA PRAIA            0   \n",
       "3 2016-04-29 00:00:00+00:00    8  PONTAL DE CAMBURI            0   \n",
       "4 2016-04-29 00:00:00+00:00   56    JARDIM DA PENHA            0   \n",
       "\n",
       "   Hipertension  Diabetes  Alcoholism  Handcap  SMS_received No-show  \n",
       "0             1         0           0        0             0      No  \n",
       "1             0         0           0        0             0      No  \n",
       "2             0         0           0        0             0      No  \n",
       "3             0         0           0        0             0      No  \n",
       "4             1         1           0        0             0      No  "
      ]
     },
     "execution_count": 2,
     "metadata": {},
     "output_type": "execute_result"
    }
   ],
   "source": [
    "# LOAD THE DATASET AND PRINT THE FIRST 5 INSTANCES\n",
    "df = pd.read_csv(\"noshowappointments-kagglev2-may-2016.csv\", parse_dates = ['ScheduledDay', 'AppointmentDay'])\n",
    "df.head()"
   ]
  },
  {
   "cell_type": "code",
   "execution_count": 3,
   "metadata": {},
   "outputs": [
    {
     "name": "stdout",
     "output_type": "stream",
     "text": [
      "<class 'pandas.core.frame.DataFrame'>\n",
      "RangeIndex: 110527 entries, 0 to 110526\n",
      "Data columns (total 14 columns):\n",
      " #   Column          Non-Null Count   Dtype              \n",
      "---  ------          --------------   -----              \n",
      " 0   PatientId       110527 non-null  float64            \n",
      " 1   AppointmentID   110527 non-null  int64              \n",
      " 2   Gender          110527 non-null  object             \n",
      " 3   ScheduledDay    110527 non-null  datetime64[ns, UTC]\n",
      " 4   AppointmentDay  110527 non-null  datetime64[ns, UTC]\n",
      " 5   Age             110527 non-null  int64              \n",
      " 6   Neighbourhood   110527 non-null  object             \n",
      " 7   Scholarship     110527 non-null  int64              \n",
      " 8   Hipertension    110527 non-null  int64              \n",
      " 9   Diabetes        110527 non-null  int64              \n",
      " 10  Alcoholism      110527 non-null  int64              \n",
      " 11  Handcap         110527 non-null  int64              \n",
      " 12  SMS_received    110527 non-null  int64              \n",
      " 13  No-show         110527 non-null  object             \n",
      "dtypes: datetime64[ns, UTC](2), float64(1), int64(8), object(3)\n",
      "memory usage: 11.8+ MB\n"
     ]
    }
   ],
   "source": [
    "# CHECKING THE DATATYPES OF EACH COLUMN\n",
    "df.info()"
   ]
  },
  {
   "cell_type": "markdown",
   "metadata": {},
   "source": [
    "> From the above cell, it can be observed that all the columns are well-formatted with appropriate data types."
   ]
  },
  {
   "cell_type": "code",
   "execution_count": 4,
   "metadata": {},
   "outputs": [
    {
     "data": {
      "text/plain": [
       "(110527, 14)"
      ]
     },
     "execution_count": 4,
     "metadata": {},
     "output_type": "execute_result"
    }
   ],
   "source": [
    "# CHECK THE DIMENSIONALITY OF THE DATASET (THAT IS, THE COUNT OF ROWS AND COLUMNS)\n",
    "df.shape"
   ]
  },
  {
   "cell_type": "markdown",
   "metadata": {},
   "source": [
    "> There are 110,527 instances and 14 features in the dataset."
   ]
  },
  {
   "cell_type": "code",
   "execution_count": 5,
   "metadata": {},
   "outputs": [
    {
     "data": {
      "text/plain": [
       "PatientId         0\n",
       "AppointmentID     0\n",
       "Gender            0\n",
       "ScheduledDay      0\n",
       "AppointmentDay    0\n",
       "Age               0\n",
       "Neighbourhood     0\n",
       "Scholarship       0\n",
       "Hipertension      0\n",
       "Diabetes          0\n",
       "Alcoholism        0\n",
       "Handcap           0\n",
       "SMS_received      0\n",
       "No-show           0\n",
       "dtype: int64"
      ]
     },
     "execution_count": 5,
     "metadata": {},
     "output_type": "execute_result"
    }
   ],
   "source": [
    "# CHECKING FOR MISSING VALUES IN THE DATASET\n",
    "df.isna().sum()"
   ]
  },
  {
   "cell_type": "markdown",
   "metadata": {},
   "source": [
    "> From the above cell, it can be observed that there are no missing data in the dataset."
   ]
  },
  {
   "cell_type": "code",
   "execution_count": 6,
   "metadata": {},
   "outputs": [
    {
     "data": {
      "text/plain": [
       "0"
      ]
     },
     "execution_count": 6,
     "metadata": {},
     "output_type": "execute_result"
    }
   ],
   "source": [
    "# CHECKING FOR DUPLICATED INSTANCES\n",
    "df.duplicated().sum()"
   ]
  },
  {
   "cell_type": "markdown",
   "metadata": {},
   "source": [
    "> Also, there are no duplicates in the dataset."
   ]
  },
  {
   "cell_type": "code",
   "execution_count": 7,
   "metadata": {},
   "outputs": [
    {
     "data": {
      "text/html": [
       "<div>\n",
       "<style scoped>\n",
       "    .dataframe tbody tr th:only-of-type {\n",
       "        vertical-align: middle;\n",
       "    }\n",
       "\n",
       "    .dataframe tbody tr th {\n",
       "        vertical-align: top;\n",
       "    }\n",
       "\n",
       "    .dataframe thead th {\n",
       "        text-align: right;\n",
       "    }\n",
       "</style>\n",
       "<table border=\"1\" class=\"dataframe\">\n",
       "  <thead>\n",
       "    <tr style=\"text-align: right;\">\n",
       "      <th></th>\n",
       "      <th>PatientId</th>\n",
       "      <th>AppointmentID</th>\n",
       "      <th>Age</th>\n",
       "      <th>Scholarship</th>\n",
       "      <th>Hipertension</th>\n",
       "      <th>Diabetes</th>\n",
       "      <th>Alcoholism</th>\n",
       "      <th>Handcap</th>\n",
       "      <th>SMS_received</th>\n",
       "    </tr>\n",
       "  </thead>\n",
       "  <tbody>\n",
       "    <tr>\n",
       "      <th>count</th>\n",
       "      <td>1.105270e+05</td>\n",
       "      <td>1.105270e+05</td>\n",
       "      <td>110527.000000</td>\n",
       "      <td>110527.000000</td>\n",
       "      <td>110527.000000</td>\n",
       "      <td>110527.000000</td>\n",
       "      <td>110527.000000</td>\n",
       "      <td>110527.000000</td>\n",
       "      <td>110527.000000</td>\n",
       "    </tr>\n",
       "    <tr>\n",
       "      <th>mean</th>\n",
       "      <td>1.474963e+14</td>\n",
       "      <td>5.675305e+06</td>\n",
       "      <td>37.088874</td>\n",
       "      <td>0.098266</td>\n",
       "      <td>0.197246</td>\n",
       "      <td>0.071865</td>\n",
       "      <td>0.030400</td>\n",
       "      <td>0.022248</td>\n",
       "      <td>0.321026</td>\n",
       "    </tr>\n",
       "    <tr>\n",
       "      <th>std</th>\n",
       "      <td>2.560949e+14</td>\n",
       "      <td>7.129575e+04</td>\n",
       "      <td>23.110205</td>\n",
       "      <td>0.297675</td>\n",
       "      <td>0.397921</td>\n",
       "      <td>0.258265</td>\n",
       "      <td>0.171686</td>\n",
       "      <td>0.161543</td>\n",
       "      <td>0.466873</td>\n",
       "    </tr>\n",
       "    <tr>\n",
       "      <th>min</th>\n",
       "      <td>3.921784e+04</td>\n",
       "      <td>5.030230e+06</td>\n",
       "      <td>-1.000000</td>\n",
       "      <td>0.000000</td>\n",
       "      <td>0.000000</td>\n",
       "      <td>0.000000</td>\n",
       "      <td>0.000000</td>\n",
       "      <td>0.000000</td>\n",
       "      <td>0.000000</td>\n",
       "    </tr>\n",
       "    <tr>\n",
       "      <th>25%</th>\n",
       "      <td>4.172614e+12</td>\n",
       "      <td>5.640286e+06</td>\n",
       "      <td>18.000000</td>\n",
       "      <td>0.000000</td>\n",
       "      <td>0.000000</td>\n",
       "      <td>0.000000</td>\n",
       "      <td>0.000000</td>\n",
       "      <td>0.000000</td>\n",
       "      <td>0.000000</td>\n",
       "    </tr>\n",
       "    <tr>\n",
       "      <th>50%</th>\n",
       "      <td>3.173184e+13</td>\n",
       "      <td>5.680573e+06</td>\n",
       "      <td>37.000000</td>\n",
       "      <td>0.000000</td>\n",
       "      <td>0.000000</td>\n",
       "      <td>0.000000</td>\n",
       "      <td>0.000000</td>\n",
       "      <td>0.000000</td>\n",
       "      <td>0.000000</td>\n",
       "    </tr>\n",
       "    <tr>\n",
       "      <th>75%</th>\n",
       "      <td>9.439172e+13</td>\n",
       "      <td>5.725524e+06</td>\n",
       "      <td>55.000000</td>\n",
       "      <td>0.000000</td>\n",
       "      <td>0.000000</td>\n",
       "      <td>0.000000</td>\n",
       "      <td>0.000000</td>\n",
       "      <td>0.000000</td>\n",
       "      <td>1.000000</td>\n",
       "    </tr>\n",
       "    <tr>\n",
       "      <th>max</th>\n",
       "      <td>9.999816e+14</td>\n",
       "      <td>5.790484e+06</td>\n",
       "      <td>115.000000</td>\n",
       "      <td>1.000000</td>\n",
       "      <td>1.000000</td>\n",
       "      <td>1.000000</td>\n",
       "      <td>1.000000</td>\n",
       "      <td>4.000000</td>\n",
       "      <td>1.000000</td>\n",
       "    </tr>\n",
       "  </tbody>\n",
       "</table>\n",
       "</div>"
      ],
      "text/plain": [
       "          PatientId  AppointmentID            Age    Scholarship  \\\n",
       "count  1.105270e+05   1.105270e+05  110527.000000  110527.000000   \n",
       "mean   1.474963e+14   5.675305e+06      37.088874       0.098266   \n",
       "std    2.560949e+14   7.129575e+04      23.110205       0.297675   \n",
       "min    3.921784e+04   5.030230e+06      -1.000000       0.000000   \n",
       "25%    4.172614e+12   5.640286e+06      18.000000       0.000000   \n",
       "50%    3.173184e+13   5.680573e+06      37.000000       0.000000   \n",
       "75%    9.439172e+13   5.725524e+06      55.000000       0.000000   \n",
       "max    9.999816e+14   5.790484e+06     115.000000       1.000000   \n",
       "\n",
       "        Hipertension       Diabetes     Alcoholism        Handcap  \\\n",
       "count  110527.000000  110527.000000  110527.000000  110527.000000   \n",
       "mean        0.197246       0.071865       0.030400       0.022248   \n",
       "std         0.397921       0.258265       0.171686       0.161543   \n",
       "min         0.000000       0.000000       0.000000       0.000000   \n",
       "25%         0.000000       0.000000       0.000000       0.000000   \n",
       "50%         0.000000       0.000000       0.000000       0.000000   \n",
       "75%         0.000000       0.000000       0.000000       0.000000   \n",
       "max         1.000000       1.000000       1.000000       4.000000   \n",
       "\n",
       "        SMS_received  \n",
       "count  110527.000000  \n",
       "mean        0.321026  \n",
       "std         0.466873  \n",
       "min         0.000000  \n",
       "25%         0.000000  \n",
       "50%         0.000000  \n",
       "75%         1.000000  \n",
       "max         1.000000  "
      ]
     },
     "execution_count": 7,
     "metadata": {},
     "output_type": "execute_result"
    }
   ],
   "source": [
    "# CHECK THE DESCRIPTIVE STATISTICS OF THE DATASET\n",
    "df.describe()"
   ]
  },
  {
   "cell_type": "markdown",
   "metadata": {},
   "source": [
    "> Let's take an in-depth look at the Age and Handcap columns, the standard deviations of the columns seem to be quite high."
   ]
  },
  {
   "cell_type": "code",
   "execution_count": 8,
   "metadata": {},
   "outputs": [
    {
     "data": {
      "text/plain": [
       "<AxesSubplot:>"
      ]
     },
     "execution_count": 8,
     "metadata": {},
     "output_type": "execute_result"
    },
    {
     "data": {
      "image/png": "[encoded data removed]",
      "text/plain": [
       "<Figure size 432x288 with 1 Axes>"
      ]
     },
     "metadata": {},
     "output_type": "display_data"
    }
   ],
   "source": [
    "# BOX PLOT OF THE AGE COLUMN\n",
    "df.Age.plot(kind = 'box')"
   ]
  },
  {
   "cell_type": "markdown",
   "metadata": {},
   "source": [
    "> There are some outliers with values above 100 in the Age column."
   ]
  },
  {
   "cell_type": "code",
   "execution_count": 9,
   "metadata": {},
   "outputs": [
    {
     "data": {
      "text/html": [
       "<div>\n",
       "<style scoped>\n",
       "    .dataframe tbody tr th:only-of-type {\n",
       "        vertical-align: middle;\n",
       "    }\n",
       "\n",
       "    .dataframe tbody tr th {\n",
       "        vertical-align: top;\n",
       "    }\n",
       "\n",
       "    .dataframe thead th {\n",
       "        text-align: right;\n",
       "    }\n",
       "</style>\n",
       "<table border=\"1\" class=\"dataframe\">\n",
       "  <thead>\n",
       "    <tr style=\"text-align: right;\">\n",
       "      <th></th>\n",
       "      <th>PatientId</th>\n",
       "      <th>AppointmentID</th>\n",
       "      <th>Gender</th>\n",
       "      <th>ScheduledDay</th>\n",
       "      <th>AppointmentDay</th>\n",
       "      <th>Age</th>\n",
       "      <th>Neighbourhood</th>\n",
       "      <th>Scholarship</th>\n",
       "      <th>Hipertension</th>\n",
       "      <th>Diabetes</th>\n",
       "      <th>Alcoholism</th>\n",
       "      <th>Handcap</th>\n",
       "      <th>SMS_received</th>\n",
       "      <th>No-show</th>\n",
       "    </tr>\n",
       "  </thead>\n",
       "  <tbody>\n",
       "    <tr>\n",
       "      <th>58014</th>\n",
       "      <td>9.762948e+14</td>\n",
       "      <td>5651757</td>\n",
       "      <td>F</td>\n",
       "      <td>2016-05-03 09:14:53+00:00</td>\n",
       "      <td>2016-05-03 00:00:00+00:00</td>\n",
       "      <td>102</td>\n",
       "      <td>CONQUISTA</td>\n",
       "      <td>0</td>\n",
       "      <td>0</td>\n",
       "      <td>0</td>\n",
       "      <td>0</td>\n",
       "      <td>0</td>\n",
       "      <td>0</td>\n",
       "      <td>No</td>\n",
       "    </tr>\n",
       "    <tr>\n",
       "      <th>63912</th>\n",
       "      <td>3.196321e+13</td>\n",
       "      <td>5700278</td>\n",
       "      <td>F</td>\n",
       "      <td>2016-05-16 09:17:44+00:00</td>\n",
       "      <td>2016-05-19 00:00:00+00:00</td>\n",
       "      <td>115</td>\n",
       "      <td>ANDORINHAS</td>\n",
       "      <td>0</td>\n",
       "      <td>0</td>\n",
       "      <td>0</td>\n",
       "      <td>0</td>\n",
       "      <td>1</td>\n",
       "      <td>0</td>\n",
       "      <td>Yes</td>\n",
       "    </tr>\n",
       "    <tr>\n",
       "      <th>63915</th>\n",
       "      <td>3.196321e+13</td>\n",
       "      <td>5700279</td>\n",
       "      <td>F</td>\n",
       "      <td>2016-05-16 09:17:44+00:00</td>\n",
       "      <td>2016-05-19 00:00:00+00:00</td>\n",
       "      <td>115</td>\n",
       "      <td>ANDORINHAS</td>\n",
       "      <td>0</td>\n",
       "      <td>0</td>\n",
       "      <td>0</td>\n",
       "      <td>0</td>\n",
       "      <td>1</td>\n",
       "      <td>0</td>\n",
       "      <td>Yes</td>\n",
       "    </tr>\n",
       "    <tr>\n",
       "      <th>68127</th>\n",
       "      <td>3.196321e+13</td>\n",
       "      <td>5562812</td>\n",
       "      <td>F</td>\n",
       "      <td>2016-04-08 14:29:17+00:00</td>\n",
       "      <td>2016-05-16 00:00:00+00:00</td>\n",
       "      <td>115</td>\n",
       "      <td>ANDORINHAS</td>\n",
       "      <td>0</td>\n",
       "      <td>0</td>\n",
       "      <td>0</td>\n",
       "      <td>0</td>\n",
       "      <td>1</td>\n",
       "      <td>0</td>\n",
       "      <td>Yes</td>\n",
       "    </tr>\n",
       "    <tr>\n",
       "      <th>76284</th>\n",
       "      <td>3.196321e+13</td>\n",
       "      <td>5744037</td>\n",
       "      <td>F</td>\n",
       "      <td>2016-05-30 09:44:51+00:00</td>\n",
       "      <td>2016-05-30 00:00:00+00:00</td>\n",
       "      <td>115</td>\n",
       "      <td>ANDORINHAS</td>\n",
       "      <td>0</td>\n",
       "      <td>0</td>\n",
       "      <td>0</td>\n",
       "      <td>0</td>\n",
       "      <td>1</td>\n",
       "      <td>0</td>\n",
       "      <td>No</td>\n",
       "    </tr>\n",
       "    <tr>\n",
       "      <th>90372</th>\n",
       "      <td>2.342836e+11</td>\n",
       "      <td>5751563</td>\n",
       "      <td>F</td>\n",
       "      <td>2016-05-31 10:19:49+00:00</td>\n",
       "      <td>2016-06-02 00:00:00+00:00</td>\n",
       "      <td>102</td>\n",
       "      <td>MARIA ORTIZ</td>\n",
       "      <td>0</td>\n",
       "      <td>0</td>\n",
       "      <td>0</td>\n",
       "      <td>0</td>\n",
       "      <td>0</td>\n",
       "      <td>0</td>\n",
       "      <td>No</td>\n",
       "    </tr>\n",
       "    <tr>\n",
       "      <th>97666</th>\n",
       "      <td>7.482346e+14</td>\n",
       "      <td>5717451</td>\n",
       "      <td>F</td>\n",
       "      <td>2016-05-19 07:57:56+00:00</td>\n",
       "      <td>2016-06-03 00:00:00+00:00</td>\n",
       "      <td>115</td>\n",
       "      <td>SÃO JOSÉ</td>\n",
       "      <td>0</td>\n",
       "      <td>1</td>\n",
       "      <td>0</td>\n",
       "      <td>0</td>\n",
       "      <td>0</td>\n",
       "      <td>1</td>\n",
       "      <td>No</td>\n",
       "    </tr>\n",
       "  </tbody>\n",
       "</table>\n",
       "</div>"
      ],
      "text/plain": [
       "          PatientId  AppointmentID Gender              ScheduledDay  \\\n",
       "58014  9.762948e+14        5651757      F 2016-05-03 09:14:53+00:00   \n",
       "63912  3.196321e+13        5700278      F 2016-05-16 09:17:44+00:00   \n",
       "63915  3.196321e+13        5700279      F 2016-05-16 09:17:44+00:00   \n",
       "68127  3.196321e+13        5562812      F 2016-04-08 14:29:17+00:00   \n",
       "76284  3.196321e+13        5744037      F 2016-05-30 09:44:51+00:00   \n",
       "90372  2.342836e+11        5751563      F 2016-05-31 10:19:49+00:00   \n",
       "97666  7.482346e+14        5717451      F 2016-05-19 07:57:56+00:00   \n",
       "\n",
       "                 AppointmentDay  Age Neighbourhood  Scholarship  Hipertension  \\\n",
       "58014 2016-05-03 00:00:00+00:00  102     CONQUISTA            0             0   \n",
       "63912 2016-05-19 00:00:00+00:00  115    ANDORINHAS            0             0   \n",
       "63915 2016-05-19 00:00:00+00:00  115    ANDORINHAS            0             0   \n",
       "68127 2016-05-16 00:00:00+00:00  115    ANDORINHAS            0             0   \n",
       "76284 2016-05-30 00:00:00+00:00  115    ANDORINHAS            0             0   \n",
       "90372 2016-06-02 00:00:00+00:00  102   MARIA ORTIZ            0             0   \n",
       "97666 2016-06-03 00:00:00+00:00  115      SÃO JOSÉ            0             1   \n",
       "\n",
       "       Diabetes  Alcoholism  Handcap  SMS_received No-show  \n",
       "58014         0           0        0             0      No  \n",
       "63912         0           0        1             0     Yes  \n",
       "63915         0           0        1             0     Yes  \n",
       "68127         0           0        1             0     Yes  \n",
       "76284         0           0        1             0      No  \n",
       "90372         0           0        0             0      No  \n",
       "97666         0           0        0             1      No  "
      ]
     },
     "execution_count": 9,
     "metadata": {},
     "output_type": "execute_result"
    }
   ],
   "source": [
    "df[df['Age'] > 100]"
   ]
  },
  {
   "cell_type": "markdown",
   "metadata": {},
   "source": [
    "> Although, from the boxplot above, It appeared that there are about 5 outliers in the dataset when the 'Age' column was considered. Moreover, these instances may not be considered as outliers because 4 out of 5 of the patients with age 115 were scheduled for appointment in the same Neighborhood or hospital (ANDORINHAS) with the same health issues. Meanwhile, 3 of them missed their appointments while 2 of them showed up."
   ]
  },
  {
   "cell_type": "code",
   "execution_count": 10,
   "metadata": {},
   "outputs": [
    {
     "data": {
      "text/plain": [
       "<AxesSubplot:>"
      ]
     },
     "execution_count": 10,
     "metadata": {},
     "output_type": "execute_result"
    },
    {
     "data": {
      "image/png": "[encoded data removed]",
      "text/plain": [
       "<Figure size 432x288 with 1 Axes>"
      ]
     },
     "metadata": {},
     "output_type": "display_data"
    }
   ],
   "source": [
    "# BOX PLOT OF THE HANDCAP COLUMN\n",
    "df.Handcap.plot(kind = 'box')"
   ]
  },
  {
   "cell_type": "markdown",
   "metadata": {},
   "source": [
    "> There are several outliers in the Handcap column."
   ]
  },
  {
   "cell_type": "code",
   "execution_count": 11,
   "metadata": {},
   "outputs": [
    {
     "data": {
      "text/plain": [
       "0    108286\n",
       "1      2042\n",
       "2       183\n",
       "3        13\n",
       "4         3\n",
       "Name: Handcap, dtype: int64"
      ]
     },
     "execution_count": 11,
     "metadata": {},
     "output_type": "execute_result"
    }
   ],
   "source": [
    "df.Handcap.value_counts()"
   ]
  },
  {
   "cell_type": "markdown",
   "metadata": {},
   "source": [
    "> From the Dataset description, the Handcap column has a boolean value (True or False) which I believe has been transformed to numerical format. This column should therefore have 2 unique values (0 : False and 1 : True). The values 2,3, and 4 in the Handcap column can be considered as outliers and should be dropped."
   ]
  },
  {
   "cell_type": "code",
   "execution_count": 12,
   "metadata": {},
   "outputs": [],
   "source": [
    "# FILTER OUT THE INSTANCES WITH HANDCAP VALUES OF 2,3,4\n",
    "df = df[df['Handcap'].values < 2]"
   ]
  },
  {
   "cell_type": "code",
   "execution_count": 13,
   "metadata": {},
   "outputs": [
    {
     "data": {
      "text/plain": [
       "0    108286\n",
       "1      2042\n",
       "Name: Handcap, dtype: int64"
      ]
     },
     "execution_count": 13,
     "metadata": {},
     "output_type": "execute_result"
    }
   ],
   "source": [
    "df['Handcap'].value_counts()"
   ]
  },
  {
   "cell_type": "markdown",
   "metadata": {},
   "source": [
    "> The dataset is now clean and ready to be used for further analyses."
   ]
  },
  {
   "cell_type": "markdown",
   "metadata": {},
   "source": [
    "<a id='eda'></a>\n",
    "## Exploratory Data Analysis\n",
    "\n",
    "### How many patients were notified by SMS and showed up/missed their scheduled appointments?"
   ]
  },
  {
   "cell_type": "code",
   "execution_count": 14,
   "metadata": {},
   "outputs": [
    {
     "data": {
      "text/plain": [
       "No-show  SMS_received\n",
       "No       0               62390\n",
       "         1               25660\n",
       "Yes      0               12503\n",
       "         1                9775\n",
       "Name: SMS_received, dtype: int64"
      ]
     },
     "execution_count": 14,
     "metadata": {},
     "output_type": "execute_result"
    }
   ],
   "source": [
    "# PERFORMING AN AGGREGATION OPERATION BY APPLYING THE GROUPBY FUNCTION \n",
    "df.groupby(['No-show', 'SMS_received'])['SMS_received'].count()"
   ]
  },
  {
   "cell_type": "code",
   "execution_count": 15,
   "metadata": {},
   "outputs": [
    {
     "data": {
      "text/plain": [
       "<AxesSubplot:xlabel='SMS_received', ylabel='count'>"
      ]
     },
     "execution_count": 15,
     "metadata": {},
     "output_type": "execute_result"
    },
    {
     "data": {
      "image/png": "[encoded data removed]",
      "text/plain": [
       "<Figure size 432x288 with 1 Axes>"
      ]
     },
     "metadata": {},
     "output_type": "display_data"
    }
   ],
   "source": [
    "# VISUALIZE THE INFORMATION IN THE ABOVE CELL USING THE COUNTPLOT METHOD IN THE SEABORN PACKAGE\n",
    "sns.countplot(x = df['SMS_received'], hue = df['No-show'])"
   ]
  },
  {
   "cell_type": "markdown",
   "metadata": {},
   "source": [
    "> From the above plot, it can seen that sending SMS alert to patients does not guarantee whether the patient will show up for the appointment. Just 23.14% of those that received SMS showed up for their appointments whereas about 56.3% of those that were not sent an SMS showed up for their appointments.\n",
    "><ul>\n",
    "    <li>25,660 patients received SMS and also showed up for their appointments</li>\n",
    "    <li>9,775 patients received SMS and did not show up for their appointments</li>\n",
    "    <li>62,390 patients did not receive SMS and but showed up for their appointments</li>\n",
    "    <li>12,503 patients did not receive SMS and also did not show up for their appointments</li>\n",
    "</ul>"
   ]
  },
  {
   "cell_type": "markdown",
   "metadata": {},
   "source": [
    "### How many patients with Scholarship showed up/missed their scheduled appointments?"
   ]
  },
  {
   "cell_type": "code",
   "execution_count": 16,
   "metadata": {},
   "outputs": [
    {
     "data": {
      "text/plain": [
       "No-show  Scholarship\n",
       "No       0              79784\n",
       "         1               8266\n",
       "Yes      0              19701\n",
       "         1               2577\n",
       "Name: Scholarship, dtype: int64"
      ]
     },
     "execution_count": 16,
     "metadata": {},
     "output_type": "execute_result"
    }
   ],
   "source": [
    "# PERFORMING AN AGGREGATION OPERATION BY APPLYING THE GROUPBY FUNCTION \n",
    "df.groupby(['No-show', 'Scholarship'])['Scholarship'].count()"
   ]
  },
  {
   "cell_type": "code",
   "execution_count": 17,
   "metadata": {},
   "outputs": [
    {
     "data": {
      "text/plain": [
       "<AxesSubplot:xlabel='Scholarship', ylabel='count'>"
      ]
     },
     "execution_count": 17,
     "metadata": {},
     "output_type": "execute_result"
    },
    {
     "data": {
      "image/png": "[encoded data removed]",
      "text/plain": [
       "<Figure size 432x288 with 1 Axes>"
      ]
     },
     "metadata": {},
     "output_type": "display_data"
    }
   ],
   "source": [
    "# VISUALIZE THE INFORMATION IN THE ABOVE CELL USING THE COUNTPLOT METHOD IN THE SEABORN PACKAGE\n",
    "sns.countplot(x = df['Scholarship'], hue = df['No-show'])"
   ]
  },
  {
   "cell_type": "markdown",
   "metadata": {},
   "source": [
    "> It can seen that there are more patients without the Brasilian Welfare Scholarship in the dataset. About 9.83% of the patients in the dataset are enrolled in the scholarship program and about 7.49% of those with scholarship showed up for their appointments. In total, about 20% of the patients missed their appointments.\n",
    "><ul>\n",
    "    <li>8,266 patients enrolled in the Brasilian Welfare Scholarship program showed up for their appointments</li>\n",
    "    <li>2,577 patients enrolled in the Brasilian Welfare Scholarship program missed their appointments</li>\n",
    "    <li>79,784 patients without scholarship showed up for their appointments</li>\n",
    "    <li>19,701 patients without scholarship missed their appointments</li>\n",
    "</ul>"
   ]
  },
  {
   "cell_type": "markdown",
   "metadata": {},
   "source": [
    "### How does the Gender column affect No-show column?"
   ]
  },
  {
   "cell_type": "code",
   "execution_count": 18,
   "metadata": {},
   "outputs": [
    {
     "data": {
      "text/plain": [
       "No-show  Gender\n",
       "No       F         57163\n",
       "         M         30887\n",
       "Yes      F         14568\n",
       "         M          7710\n",
       "Name: Gender, dtype: int64"
      ]
     },
     "execution_count": 18,
     "metadata": {},
     "output_type": "execute_result"
    }
   ],
   "source": [
    "# PERFORMING AN AGGREGATION OPERATION BY APPLYING THE GROUPBY FUNCTION \n",
    "df.groupby(['No-show', 'Gender'])['Gender'].count()"
   ]
  },
  {
   "cell_type": "code",
   "execution_count": 19,
   "metadata": {},
   "outputs": [
    {
     "data": {
      "text/plain": [
       "<AxesSubplot:xlabel='Gender', ylabel='count'>"
      ]
     },
     "execution_count": 19,
     "metadata": {},
     "output_type": "execute_result"
    },
    {
     "data": {
      "image/png": "[encoded data removed]",
      "text/plain": [
       "<Figure size 432x288 with 1 Axes>"
      ]
     },
     "metadata": {},
     "output_type": "display_data"
    }
   ],
   "source": [
    "# VISUALIZE THE INFORMATION IN THE ABOVE CELL USING THE COUNTPLOT METHOD IN THE SEABORN PACKAGE\n",
    "sns.countplot(x = df['Gender'], hue = df['No-show'])"
   ]
  },
  {
   "cell_type": "markdown",
   "metadata": {},
   "source": [
    "> From the above, about 79.7% of the female patients showed up for their appointments while about 80% of the male patients showed up for their appointments. Based on this fact, Gender is not necessarily an important factor for predicting whether a patient would show up for his/her appointment or not.\n",
    "><ul>\n",
    "    <li>57,163 female patients showed up for their appointments</li>\n",
    "    <li>14,568 female patients missed their appointments</li>\n",
    "    <li>30,887 male patients showed up for their appointments</li>\n",
    "    <li>7,710 male patients missed their appointments</li>\n",
    "</ul>"
   ]
  },
  {
   "cell_type": "markdown",
   "metadata": {},
   "source": [
    "### Determine the Hospital with the least/most No-show?"
   ]
  },
  {
   "cell_type": "code",
   "execution_count": 20,
   "metadata": {},
   "outputs": [
    {
     "data": {
      "text/plain": [
       "No-show  Neighbourhood              \n",
       "No       JARDIM CAMBURI                 6252\n",
       "         MARIA ORTIZ                    4586\n",
       "         RESISTÊNCIA                    3517\n",
       "         JARDIM DA PENHA                3241\n",
       "         CENTRO                         2629\n",
       "         SANTA MARTHA                   2622\n",
       "         ITARARÉ                        2586\n",
       "         TABUAZEIRO                     2554\n",
       "         SANTO ANTÔNIO                  2261\n",
       "         BONFIM                         2221\n",
       "         JESUS DE NAZARETH              2157\n",
       "         JABOUR                         2058\n",
       "         SANTO ANDRÉ                    2058\n",
       "         CARATOÍRA                      1974\n",
       "         SÃO PEDRO                      1921\n",
       "         NOVA PALESTINA                 1859\n",
       "         DA PENHA                       1782\n",
       "         ANDORINHAS                     1735\n",
       "         ROMÃO                          1734\n",
       "         ILHA DO PRÍNCIPE               1733\n",
       "         GURIGICA                       1562\n",
       "         SÃO JOSÉ                       1547\n",
       "         FORTE SÃO JOÃO                 1543\n",
       "         ILHA DE SANTA MARIA            1524\n",
       "         BELA VISTA                     1515\n",
       "         MARUÍPE                        1477\n",
       "         SÃO CRISTÓVÃO                  1472\n",
       "Yes      JARDIM CAMBURI                 1465\n",
       "No       REDENÇÃO                       1277\n",
       "Yes      MARIA ORTIZ                    1219\n",
       "No       JOANA D´ARC                    1165\n",
       "         SÃO BENEDITO                   1151\n",
       "         CONSOLAÇÃO                     1139\n",
       "         CRUZAMENTO                     1094\n",
       "         SANTA TEREZA                   1052\n",
       "         PRAIA DO SUÁ                    989\n",
       "Yes      ITARARÉ                         921\n",
       "No       SANTOS DUMONT                   905\n",
       "Yes      RESISTÊNCIA                     903\n",
       "No       GRANDE VITÓRIA                  854\n",
       "         INHANGUETÁ                      854\n",
       "         PRAIA DO CANTO                  845\n",
       "         ILHA DAS CAIEIRAS               832\n",
       "         VILA RUBIM                      706\n",
       "         DO QUADRO                       704\n",
       "Yes      CENTRO                          701\n",
       "         JESUS DE NAZARETH               696\n",
       "No       REPÚBLICA                       692\n",
       "         CONQUISTA                       689\n",
       "         BENTO FERREIRA                  662\n",
       "         MONTE BELO                      658\n",
       "Yes      JARDIM DA PENHA                 631\n",
       "No       PARQUE MOSCOSO                  616\n",
       "Yes      CARATOÍRA                       590\n",
       "         TABUAZEIRO                      573\n",
       "No       GOIABEIRAS                      562\n",
       "         JUCUTUQUARA                     560\n",
       "Yes      BONFIM                          549\n",
       "No       FONTE GRANDE                    533\n",
       "         MATA DA PRAIA                   530\n",
       "Yes      ILHA DO PRÍNCIPE                526\n",
       "         ANDORINHAS                      520\n",
       "         SÃO PEDRO                       512\n",
       "         SANTO ANDRÉ                     504\n",
       "         SANTA MARTHA                    491\n",
       "         SANTO ANTÔNIO                   483\n",
       "         ROMÃO                           472\n",
       "No       DO CABRAL                       470\n",
       "Yes      GURIGICA                        456\n",
       "         JABOUR                          451\n",
       "No       SANTOS REIS                     435\n",
       "         ESTRELINHA                      431\n",
       "Yes      DA PENHA                        428\n",
       "         SÃO JOSÉ                        426\n",
       "         MARUÍPE                         424\n",
       "         NOVA PALESTINA                  402\n",
       "No       SOLON BORGES                    400\n",
       "Yes      BELA VISTA                      384\n",
       "No       SANTA CLARA                     371\n",
       "Yes      SANTOS DUMONT                   369\n",
       "No       PIEDADE                         364\n",
       "Yes      SÃO CRISTÓVÃO                   362\n",
       "         ILHA DE SANTA MARIA             361\n",
       "No       SANTA LÚCIA                     352\n",
       "         SANTA LUÍZA                     347\n",
       "Yes      FORTE SÃO JOÃO                  346\n",
       "No       BARRO VERMELHO                  332\n",
       "         SANTA CECÍLIA                   325\n",
       "         DO MOSCOSO                      319\n",
       "         MÁRIO CYPRESTE                  317\n",
       "Yes      CRUZAMENTO                      304\n",
       "         PRAIA DO SUÁ                    294\n",
       "         SÃO BENEDITO                    287\n",
       "         REDENÇÃO                        275\n",
       "         SANTA TEREZA                    272\n",
       "         JOANA D´ARC                     258\n",
       "No       DE LOURDES                      255\n",
       "         COMDUSA                         254\n",
       "         BOA VISTA                       254\n",
       "Yes      CONSOLAÇÃO                      237\n",
       "         ILHA DAS CAIEIRAS               235\n",
       "No       ANTÔNIO HONÓRIO                 221\n",
       "         ARIOVALDO FAVALESSA             220\n",
       "Yes      GRANDE VITÓRIA                  217\n",
       "No       FRADINHOS                       210\n",
       "Yes      INHANGUETÁ                      201\n",
       "         BENTO FERREIRA                  193\n",
       "         PRAIA DO CANTO                  190\n",
       "No       ENSEADA DO SUÁ                  182\n",
       "Yes      PARQUE MOSCOSO                  179\n",
       "         MONTE BELO                      166\n",
       "         CONQUISTA                       160\n",
       "         FONTE GRANDE                    149\n",
       "         REPÚBLICA                       143\n",
       "No       SANTA HELENA                    141\n",
       "Yes      VILA RUBIM                      141\n",
       "         DO QUADRO                       140\n",
       "         GOIABEIRAS                      137\n",
       "         SANTA CLARA                     134\n",
       "No       HORTO                           133\n",
       "Yes      JUCUTUQUARA                     132\n",
       "         SANTA CECÍLIA                   123\n",
       "No       UNIVERSITÁRIO                   120\n",
       "         SEGURANÇA DO LAR                117\n",
       "Yes      SANTOS REIS                     112\n",
       "         MATA DA PRAIA                   110\n",
       "No       NAZARETH                        106\n",
       "Yes      ESTRELINHA                      105\n",
       "         DO MOSCOSO                       92\n",
       "         BARRO VERMELHO                   91\n",
       "         PIEDADE                          88\n",
       "         DO CABRAL                        88\n",
       "         SANTA LÚCIA                      85\n",
       "No       MORADA DE CAMBURI                80\n",
       "Yes      SANTA LUÍZA                      75\n",
       "         SOLON BORGES                     69\n",
       "         ARIOVALDO FAVALESSA              62\n",
       "         BOA VISTA                        58\n",
       "No       PONTAL DE CAMBURI                57\n",
       "Yes      COMDUSA                          56\n",
       "         MÁRIO CYPRESTE                   54\n",
       "         ENSEADA DO SUÁ                   52\n",
       "         ANTÔNIO HONÓRIO                  50\n",
       "         FRADINHOS                        48\n",
       "         DE LOURDES                       47\n",
       "         HORTO                            42\n",
       "         SANTA HELENA                     37\n",
       "No       ILHA DO BOI                      32\n",
       "Yes      UNIVERSITÁRIO                    32\n",
       "         NAZARETH                         29\n",
       "         SEGURANÇA DO LAR                 28\n",
       "         MORADA DE CAMBURI                16\n",
       "         PONTAL DE CAMBURI                12\n",
       "No       ILHA DO FRADE                     8\n",
       "         AEROPORTO                         7\n",
       "Yes      ILHA DO BOI                       3\n",
       "         ILHAS OCEÂNICAS DE TRINDADE       2\n",
       "         ILHA DO FRADE                     2\n",
       "No       PARQUE INDUSTRIAL                 1\n",
       "Yes      AEROPORTO                         1\n",
       "Name: Neighbourhood, dtype: int64"
      ]
     },
     "execution_count": 20,
     "metadata": {},
     "output_type": "execute_result"
    }
   ],
   "source": [
    "# PERFORMING AN AGGREGATION OPERATION BY APPLYING THE GROUPBY FUNCTION \n",
    "df.groupby(['No-show', 'Neighbourhood'])['Neighbourhood'].count().sort_values(ascending = False)"
   ]
  },
  {
   "cell_type": "code",
   "execution_count": 21,
   "metadata": {},
   "outputs": [
    {
     "data": {
      "text/plain": [
       "<AxesSubplot:ylabel='No-show,Neighbourhood'>"
      ]
     },
     "execution_count": 21,
     "metadata": {},
     "output_type": "execute_result"
    },
    {
     "data": {
      "image/png": "[encoded data removed]",
      "text/plain": [
       "<Figure size 432x288 with 1 Axes>"
      ]
     },
     "metadata": {},
     "output_type": "display_data"
    }
   ],
   "source": [
    "# VISUALIZE THE INFORMATION IN THE ABOVE CELL\n",
    "df.groupby(['No-show', 'Neighbourhood'])['Neighbourhood'].count().sort_values(ascending = True).tail(15).plot(kind= 'barh')"
   ]
  },
  {
   "cell_type": "code",
   "execution_count": 22,
   "metadata": {},
   "outputs": [
    {
     "data": {
      "text/plain": [
       "<AxesSubplot:ylabel='No-show,Neighbourhood'>"
      ]
     },
     "execution_count": 22,
     "metadata": {},
     "output_type": "execute_result"
    },
    {
     "data": {
      "image/png": "[encoded data removed]",
      "text/plain": [
       "<Figure size 432x288 with 1 Axes>"
      ]
     },
     "metadata": {},
     "output_type": "display_data"
    }
   ],
   "source": [
    "# VISUALIZE THE INFORMATION IN THE ABOVE CELL\n",
    "df.groupby(['No-show', 'Neighbourhood'])['Neighbourhood'].count().sort_values(ascending = False).tail(15).plot(kind= 'barh')"
   ]
  },
  {
   "cell_type": "markdown",
   "metadata": {},
   "source": [
    "> The hospital located at JARDIM CAMBURI had the highest number of patients (6,252) that showed up for their appointments while the hospital located at PARQUE INDUSTRIAL had the least number of patients (1) that showed up for their appointments.\n",
    "\n",
    "> The hospital located at JARDIM CAMBURI also had the highest number of patients (1465) that missed their appointments while the hospital located at AEROPORTO had the least number (1) of patients that missed their appointments."
   ]
  },
  {
   "cell_type": "markdown",
   "metadata": {},
   "source": [
    "### What factors are most important in predicting if a patient will show up for his/her scheduled appointment?"
   ]
  },
  {
   "cell_type": "markdown",
   "metadata": {},
   "source": [
    ">In order to determine the factors that are most important in predicting whether a patient would show up for his/her appointment or not, a correlation analysis between the dependent variable ('No-show') and all other variables is required. This can be achieved using the corr() method available in the pandas dataframe module.\n",
    "\n",
    "> But before performing the correlation analysis, I would like to create a new column called \"Day before Appointment\" by substracting the \"Scheduled Day\" from the \"Appointment Day\". This new column tells us the number of days between the scheduled-day and the appointment-day."
   ]
  },
  {
   "cell_type": "code",
   "execution_count": 23,
   "metadata": {},
   "outputs": [],
   "source": [
    "df['Day(s) before Appointment'] = df['AppointmentDay'] - df['ScheduledDay']\n",
    "df['Day(s) before Appointment'] = abs(df['Day(s) before Appointment'].dt.days)"
   ]
  },
  {
   "cell_type": "code",
   "execution_count": 24,
   "metadata": {},
   "outputs": [
    {
     "name": "stdout",
     "output_type": "stream",
     "text": [
      "<class 'pandas.core.frame.DataFrame'>\n",
      "Int64Index: 110328 entries, 0 to 110526\n",
      "Data columns (total 15 columns):\n",
      " #   Column                     Non-Null Count   Dtype              \n",
      "---  ------                     --------------   -----              \n",
      " 0   PatientId                  110328 non-null  float64            \n",
      " 1   AppointmentID              110328 non-null  int64              \n",
      " 2   Gender                     110328 non-null  object             \n",
      " 3   ScheduledDay               110328 non-null  datetime64[ns, UTC]\n",
      " 4   AppointmentDay             110328 non-null  datetime64[ns, UTC]\n",
      " 5   Age                        110328 non-null  int64              \n",
      " 6   Neighbourhood              110328 non-null  object             \n",
      " 7   Scholarship                110328 non-null  int64              \n",
      " 8   Hipertension               110328 non-null  int64              \n",
      " 9   Diabetes                   110328 non-null  int64              \n",
      " 10  Alcoholism                 110328 non-null  int64              \n",
      " 11  Handcap                    110328 non-null  int64              \n",
      " 12  SMS_received               110328 non-null  int64              \n",
      " 13  No-show                    110328 non-null  object             \n",
      " 14  Day(s) before Appointment  110328 non-null  int64              \n",
      "dtypes: datetime64[ns, UTC](2), float64(1), int64(9), object(3)\n",
      "memory usage: 17.5+ MB\n"
     ]
    }
   ],
   "source": [
    "df.info()"
   ]
  },
  {
   "cell_type": "markdown",
   "metadata": {},
   "source": [
    "> It is also important to transform some of the columns with object data type to numeric data type so that all the columns can be captured in the analysis.\n",
    "\n",
    "> From the information above, the Gender, Neighbourhood, and No-show columns are to be transformed to numerical format."
   ]
  },
  {
   "cell_type": "code",
   "execution_count": 25,
   "metadata": {},
   "outputs": [],
   "source": [
    "# PERFORMING THE TRANSFORMATION USING AN ANONYMOUS FUNCTION\n",
    "df[['Gender', 'Neighbourhood', 'No-show']] = df[['Gender', 'Neighbourhood', 'No-show']].apply(lambda col:pd.Categorical(col).codes)"
   ]
  },
  {
   "cell_type": "code",
   "execution_count": 26,
   "metadata": {},
   "outputs": [
    {
     "data": {
      "text/html": [
       "<div>\n",
       "<style scoped>\n",
       "    .dataframe tbody tr th:only-of-type {\n",
       "        vertical-align: middle;\n",
       "    }\n",
       "\n",
       "    .dataframe tbody tr th {\n",
       "        vertical-align: top;\n",
       "    }\n",
       "\n",
       "    .dataframe thead th {\n",
       "        text-align: right;\n",
       "    }\n",
       "</style>\n",
       "<table border=\"1\" class=\"dataframe\">\n",
       "  <thead>\n",
       "    <tr style=\"text-align: right;\">\n",
       "      <th></th>\n",
       "      <th>PatientId</th>\n",
       "      <th>AppointmentID</th>\n",
       "      <th>Gender</th>\n",
       "      <th>Age</th>\n",
       "      <th>Neighbourhood</th>\n",
       "      <th>Scholarship</th>\n",
       "      <th>Hipertension</th>\n",
       "      <th>Diabetes</th>\n",
       "      <th>Alcoholism</th>\n",
       "      <th>Handcap</th>\n",
       "      <th>SMS_received</th>\n",
       "      <th>No-show</th>\n",
       "      <th>Day(s) before Appointment</th>\n",
       "    </tr>\n",
       "  </thead>\n",
       "  <tbody>\n",
       "    <tr>\n",
       "      <th>PatientId</th>\n",
       "      <td>1.000000</td>\n",
       "      <td>0.003915</td>\n",
       "      <td>0.008117</td>\n",
       "      <td>-0.004202</td>\n",
       "      <td>0.004009</td>\n",
       "      <td>-0.002706</td>\n",
       "      <td>-0.006520</td>\n",
       "      <td>0.001717</td>\n",
       "      <td>0.011053</td>\n",
       "      <td>-0.008186</td>\n",
       "      <td>-0.009867</td>\n",
       "      <td>-0.001380</td>\n",
       "      <td>-0.000623</td>\n",
       "    </tr>\n",
       "    <tr>\n",
       "      <th>AppointmentID</th>\n",
       "      <td>0.003915</td>\n",
       "      <td>1.000000</td>\n",
       "      <td>0.018531</td>\n",
       "      <td>-0.019246</td>\n",
       "      <td>0.005639</td>\n",
       "      <td>0.022745</td>\n",
       "      <td>0.012770</td>\n",
       "      <td>0.022771</td>\n",
       "      <td>0.033112</td>\n",
       "      <td>0.015173</td>\n",
       "      <td>-0.256872</td>\n",
       "      <td>-0.162465</td>\n",
       "      <td>-0.769945</td>\n",
       "    </tr>\n",
       "    <tr>\n",
       "      <th>Gender</th>\n",
       "      <td>0.008117</td>\n",
       "      <td>0.018531</td>\n",
       "      <td>1.000000</td>\n",
       "      <td>-0.106834</td>\n",
       "      <td>-0.007899</td>\n",
       "      <td>-0.114295</td>\n",
       "      <td>-0.055977</td>\n",
       "      <td>-0.032707</td>\n",
       "      <td>0.105894</td>\n",
       "      <td>0.020676</td>\n",
       "      <td>-0.046341</td>\n",
       "      <td>-0.003963</td>\n",
       "      <td>-0.026008</td>\n",
       "    </tr>\n",
       "    <tr>\n",
       "      <th>Age</th>\n",
       "      <td>-0.004202</td>\n",
       "      <td>-0.019246</td>\n",
       "      <td>-0.106834</td>\n",
       "      <td>1.000000</td>\n",
       "      <td>-0.016056</td>\n",
       "      <td>-0.092113</td>\n",
       "      <td>0.503677</td>\n",
       "      <td>0.291760</td>\n",
       "      <td>0.095687</td>\n",
       "      <td>0.081952</td>\n",
       "      <td>0.012784</td>\n",
       "      <td>-0.060786</td>\n",
       "      <td>0.030599</td>\n",
       "    </tr>\n",
       "    <tr>\n",
       "      <th>Neighbourhood</th>\n",
       "      <td>0.004009</td>\n",
       "      <td>0.005639</td>\n",
       "      <td>-0.007899</td>\n",
       "      <td>-0.016056</td>\n",
       "      <td>1.000000</td>\n",
       "      <td>0.006973</td>\n",
       "      <td>0.004289</td>\n",
       "      <td>0.011382</td>\n",
       "      <td>0.000068</td>\n",
       "      <td>0.006857</td>\n",
       "      <td>0.018427</td>\n",
       "      <td>-0.009081</td>\n",
       "      <td>-0.001242</td>\n",
       "    </tr>\n",
       "    <tr>\n",
       "      <th>Scholarship</th>\n",
       "      <td>-0.002706</td>\n",
       "      <td>0.022745</td>\n",
       "      <td>-0.114295</td>\n",
       "      <td>-0.092113</td>\n",
       "      <td>0.006973</td>\n",
       "      <td>1.000000</td>\n",
       "      <td>-0.019239</td>\n",
       "      <td>-0.024611</td>\n",
       "      <td>0.035224</td>\n",
       "      <td>-0.009191</td>\n",
       "      <td>0.001204</td>\n",
       "      <td>0.029392</td>\n",
       "      <td>-0.029802</td>\n",
       "    </tr>\n",
       "    <tr>\n",
       "      <th>Hipertension</th>\n",
       "      <td>-0.006520</td>\n",
       "      <td>0.012770</td>\n",
       "      <td>-0.055977</td>\n",
       "      <td>0.503677</td>\n",
       "      <td>0.004289</td>\n",
       "      <td>-0.019239</td>\n",
       "      <td>1.000000</td>\n",
       "      <td>0.432265</td>\n",
       "      <td>0.088087</td>\n",
       "      <td>0.081366</td>\n",
       "      <td>-0.006235</td>\n",
       "      <td>-0.036174</td>\n",
       "      <td>-0.020286</td>\n",
       "    </tr>\n",
       "    <tr>\n",
       "      <th>Diabetes</th>\n",
       "      <td>0.001717</td>\n",
       "      <td>0.022771</td>\n",
       "      <td>-0.032707</td>\n",
       "      <td>0.291760</td>\n",
       "      <td>0.011382</td>\n",
       "      <td>-0.024611</td>\n",
       "      <td>0.432265</td>\n",
       "      <td>1.000000</td>\n",
       "      <td>0.018635</td>\n",
       "      <td>0.054717</td>\n",
       "      <td>-0.014780</td>\n",
       "      <td>-0.015168</td>\n",
       "      <td>-0.028942</td>\n",
       "    </tr>\n",
       "    <tr>\n",
       "      <th>Alcoholism</th>\n",
       "      <td>0.011053</td>\n",
       "      <td>0.033112</td>\n",
       "      <td>0.105894</td>\n",
       "      <td>0.095687</td>\n",
       "      <td>0.000068</td>\n",
       "      <td>0.035224</td>\n",
       "      <td>0.088087</td>\n",
       "      <td>0.018635</td>\n",
       "      <td>1.000000</td>\n",
       "      <td>0.003119</td>\n",
       "      <td>-0.026079</td>\n",
       "      <td>-0.000244</td>\n",
       "      <td>-0.037185</td>\n",
       "    </tr>\n",
       "    <tr>\n",
       "      <th>Handcap</th>\n",
       "      <td>-0.008186</td>\n",
       "      <td>0.015173</td>\n",
       "      <td>0.020676</td>\n",
       "      <td>0.081952</td>\n",
       "      <td>0.006857</td>\n",
       "      <td>-0.009191</td>\n",
       "      <td>0.081366</td>\n",
       "      <td>0.054717</td>\n",
       "      <td>0.003119</td>\n",
       "      <td>1.000000</td>\n",
       "      <td>-0.024030</td>\n",
       "      <td>-0.007761</td>\n",
       "      <td>-0.019722</td>\n",
       "    </tr>\n",
       "    <tr>\n",
       "      <th>SMS_received</th>\n",
       "      <td>-0.009867</td>\n",
       "      <td>-0.256872</td>\n",
       "      <td>-0.046341</td>\n",
       "      <td>0.012784</td>\n",
       "      <td>0.018427</td>\n",
       "      <td>0.001204</td>\n",
       "      <td>-0.006235</td>\n",
       "      <td>-0.014780</td>\n",
       "      <td>-0.026079</td>\n",
       "      <td>-0.024030</td>\n",
       "      <td>1.000000</td>\n",
       "      <td>0.126681</td>\n",
       "      <td>0.378006</td>\n",
       "    </tr>\n",
       "    <tr>\n",
       "      <th>No-show</th>\n",
       "      <td>-0.001380</td>\n",
       "      <td>-0.162465</td>\n",
       "      <td>-0.003963</td>\n",
       "      <td>-0.060786</td>\n",
       "      <td>-0.009081</td>\n",
       "      <td>0.029392</td>\n",
       "      <td>-0.036174</td>\n",
       "      <td>-0.015168</td>\n",
       "      <td>-0.000244</td>\n",
       "      <td>-0.007761</td>\n",
       "      <td>0.126681</td>\n",
       "      <td>1.000000</td>\n",
       "      <td>0.173422</td>\n",
       "    </tr>\n",
       "    <tr>\n",
       "      <th>Day(s) before Appointment</th>\n",
       "      <td>-0.000623</td>\n",
       "      <td>-0.769945</td>\n",
       "      <td>-0.026008</td>\n",
       "      <td>0.030599</td>\n",
       "      <td>-0.001242</td>\n",
       "      <td>-0.029802</td>\n",
       "      <td>-0.020286</td>\n",
       "      <td>-0.028942</td>\n",
       "      <td>-0.037185</td>\n",
       "      <td>-0.019722</td>\n",
       "      <td>0.378006</td>\n",
       "      <td>0.173422</td>\n",
       "      <td>1.000000</td>\n",
       "    </tr>\n",
       "  </tbody>\n",
       "</table>\n",
       "</div>"
      ],
      "text/plain": [
       "                           PatientId  AppointmentID    Gender       Age  \\\n",
       "PatientId                   1.000000       0.003915  0.008117 -0.004202   \n",
       "AppointmentID               0.003915       1.000000  0.018531 -0.019246   \n",
       "Gender                      0.008117       0.018531  1.000000 -0.106834   \n",
       "Age                        -0.004202      -0.019246 -0.106834  1.000000   \n",
       "Neighbourhood               0.004009       0.005639 -0.007899 -0.016056   \n",
       "Scholarship                -0.002706       0.022745 -0.114295 -0.092113   \n",
       "Hipertension               -0.006520       0.012770 -0.055977  0.503677   \n",
       "Diabetes                    0.001717       0.022771 -0.032707  0.291760   \n",
       "Alcoholism                  0.011053       0.033112  0.105894  0.095687   \n",
       "Handcap                    -0.008186       0.015173  0.020676  0.081952   \n",
       "SMS_received               -0.009867      -0.256872 -0.046341  0.012784   \n",
       "No-show                    -0.001380      -0.162465 -0.003963 -0.060786   \n",
       "Day(s) before Appointment  -0.000623      -0.769945 -0.026008  0.030599   \n",
       "\n",
       "                           Neighbourhood  Scholarship  Hipertension  Diabetes  \\\n",
       "PatientId                       0.004009    -0.002706     -0.006520  0.001717   \n",
       "AppointmentID                   0.005639     0.022745      0.012770  0.022771   \n",
       "Gender                         -0.007899    -0.114295     -0.055977 -0.032707   \n",
       "Age                            -0.016056    -0.092113      0.503677  0.291760   \n",
       "Neighbourhood                   1.000000     0.006973      0.004289  0.011382   \n",
       "Scholarship                     0.006973     1.000000     -0.019239 -0.024611   \n",
       "Hipertension                    0.004289    -0.019239      1.000000  0.432265   \n",
       "Diabetes                        0.011382    -0.024611      0.432265  1.000000   \n",
       "Alcoholism                      0.000068     0.035224      0.088087  0.018635   \n",
       "Handcap                         0.006857    -0.009191      0.081366  0.054717   \n",
       "SMS_received                    0.018427     0.001204     -0.006235 -0.014780   \n",
       "No-show                        -0.009081     0.029392     -0.036174 -0.015168   \n",
       "Day(s) before Appointment      -0.001242    -0.029802     -0.020286 -0.028942   \n",
       "\n",
       "                           Alcoholism   Handcap  SMS_received   No-show  \\\n",
       "PatientId                    0.011053 -0.008186     -0.009867 -0.001380   \n",
       "AppointmentID                0.033112  0.015173     -0.256872 -0.162465   \n",
       "Gender                       0.105894  0.020676     -0.046341 -0.003963   \n",
       "Age                          0.095687  0.081952      0.012784 -0.060786   \n",
       "Neighbourhood                0.000068  0.006857      0.018427 -0.009081   \n",
       "Scholarship                  0.035224 -0.009191      0.001204  0.029392   \n",
       "Hipertension                 0.088087  0.081366     -0.006235 -0.036174   \n",
       "Diabetes                     0.018635  0.054717     -0.014780 -0.015168   \n",
       "Alcoholism                   1.000000  0.003119     -0.026079 -0.000244   \n",
       "Handcap                      0.003119  1.000000     -0.024030 -0.007761   \n",
       "SMS_received                -0.026079 -0.024030      1.000000  0.126681   \n",
       "No-show                     -0.000244 -0.007761      0.126681  1.000000   \n",
       "Day(s) before Appointment   -0.037185 -0.019722      0.378006  0.173422   \n",
       "\n",
       "                           Day(s) before Appointment  \n",
       "PatientId                                  -0.000623  \n",
       "AppointmentID                              -0.769945  \n",
       "Gender                                     -0.026008  \n",
       "Age                                         0.030599  \n",
       "Neighbourhood                              -0.001242  \n",
       "Scholarship                                -0.029802  \n",
       "Hipertension                               -0.020286  \n",
       "Diabetes                                   -0.028942  \n",
       "Alcoholism                                 -0.037185  \n",
       "Handcap                                    -0.019722  \n",
       "SMS_received                                0.378006  \n",
       "No-show                                     0.173422  \n",
       "Day(s) before Appointment                   1.000000  "
      ]
     },
     "execution_count": 26,
     "metadata": {},
     "output_type": "execute_result"
    }
   ],
   "source": [
    "# PERFORMING THE CORRELATION ANALYSIS USING CORR() METHOD\n",
    "df.corr()"
   ]
  },
  {
   "cell_type": "code",
   "execution_count": 27,
   "metadata": {},
   "outputs": [
    {
     "data": {
      "image/png": "[encoded data removed]",
      "text/plain": [
       "<Figure size 864x576 with 2 Axes>"
      ]
     },
     "metadata": {},
     "output_type": "display_data"
    }
   ],
   "source": [
    "# VISUALIZE THE INFORMATION IN THE ABOVE CELL\n",
    "plt.figure(figsize = (12, 8))\n",
    "sns.heatmap(df.corr(), annot = True);"
   ]
  },
  {
   "cell_type": "markdown",
   "metadata": {},
   "source": [
    "<a id='conclusions'></a>\n",
    "## Conclusions\n",
    "\n",
    "> From the above analysis, it can be observed that the \"SMS_received\" and \"Day(s) before Appointment\" columns are partly correlated with the \"No-show\" column.\n",
    "\n",
    "> Meanwhile, the \"Hipertension\" and \"Diabetes\" columns are also correlated with the \"Age\" column.\n",
    "\n",
    "> Further statistical analyses such as T-test, F-test, and ANOVA test are needed in order to reinforce a conclusion with regards to the important factors in predicting if a patient will show up for his/her scheduled appointment"
   ]
  }
 ],
 "metadata": {
  "kernelspec": {
   "display_name": "Python 3 (ipykernel)",
   "language": "python",
   "name": "python3"
  },
  "language_info": {
   "codemirror_mode": {
    "name": "ipython",
    "version": 3
   },
   "file_extension": ".py",
   "mimetype": "text/x-python",
   "name": "python",
   "nbconvert_exporter": "python",
   "pygments_lexer": "ipython3",
   "version": "3.9.7"
  }
 },
 "nbformat": 4,
 "nbformat_minor": 2
}
